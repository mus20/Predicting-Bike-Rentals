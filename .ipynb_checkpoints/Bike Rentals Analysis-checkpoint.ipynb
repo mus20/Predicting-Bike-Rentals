{
 "cells": [
  {
   "cell_type": "markdown",
   "metadata": {},
   "source": [
    "Attribute Information:\n",
    "\n",
    "Both hour.csv and day.csv have the following fields, except hr which is not available in day.csv\n",
    "\n",
    "- instant: record index\n",
    "- dteday : date\n",
    "- season : season (1:springer, 2:summer, 3:fall, 4:winter)\n",
    "- yr : year (0: 2011, 1:2012)\n",
    "- mnth : month ( 1 to 12)\n",
    "- hr : hour (0 to 23)\n",
    "- holiday : weather day is holiday or not (extracted from [Web Link])\n",
    "- weekday : day of the week\n",
    "- workingday : if day is neither weekend nor holiday is 1, otherwise is 0.\n",
    "+ weathersit : \n",
    "- 1: Clear, Few clouds, Partly cloudy, Partly cloudy\n",
    "- 2: Mist + Cloudy, Mist + Broken clouds, Mist + Few clouds, Mist\n",
    "- 3: Light Snow, Light Rain + Thunderstorm + Scattered clouds, Light Rain + Scattered clouds\n",
    "- 4: Heavy Rain + Ice Pallets + Thunderstorm + Mist, Snow + Fog\n",
    "- temp : Normalized temperature in Celsius. The values are derived via (t-t_min)/(t_max-t_min), t_min=-8, t_max=+39 (only in hourly scale)\n",
    "- atemp: Normalized feeling temperature in Celsius. The values are derived via (t-t_min)/(t_max-t_min), t_min=-16, t_max=+50 (only in hourly scale)\n",
    "- hum: Normalized humidity. The values are divided to 100 (max)\n",
    "- windspeed: Normalized wind speed. The values are divided to 67 (max)\n",
    "- casual: count of casual users\n",
    "- registered: count of registered users\n",
    "- cnt: count of total rental bikes including both casual and registered"
   ]
  },
  {
   "cell_type": "code",
   "execution_count": 7,
   "metadata": {},
   "outputs": [],
   "source": [
    "import pandas as pd\n",
    "import numpy as np\n",
    "import matplotlib.pyplot as plt\n",
    "%matplotlib inline"
   ]
  },
  {
   "cell_type": "code",
   "execution_count": 8,
   "metadata": {},
   "outputs": [
    {
     "name": "stdout",
     "output_type": "stream",
     "text": [
      "(17379, 17)\n",
      "<class 'pandas.core.frame.DataFrame'>\n",
      "RangeIndex: 17379 entries, 0 to 17378\n",
      "Data columns (total 17 columns):\n",
      "instant       17379 non-null int64\n",
      "dteday        17379 non-null object\n",
      "season        17379 non-null int64\n",
      "yr            17379 non-null int64\n",
      "mnth          17379 non-null int64\n",
      "hr            17379 non-null int64\n",
      "holiday       17379 non-null int64\n",
      "weekday       17379 non-null int64\n",
      "workingday    17379 non-null int64\n",
      "weathersit    17379 non-null int64\n",
      "temp          17379 non-null float64\n",
      "atemp         17379 non-null float64\n",
      "hum           17379 non-null float64\n",
      "windspeed     17379 non-null float64\n",
      "casual        17379 non-null int64\n",
      "registered    17379 non-null int64\n",
      "cnt           17379 non-null int64\n",
      "dtypes: float64(4), int64(12), object(1)\n",
      "memory usage: 2.3+ MB\n",
      "None\n"
     ]
    },
    {
     "data": {
      "text/html": [
       "<div>\n",
       "<style scoped>\n",
       "    .dataframe tbody tr th:only-of-type {\n",
       "        vertical-align: middle;\n",
       "    }\n",
       "\n",
       "    .dataframe tbody tr th {\n",
       "        vertical-align: top;\n",
       "    }\n",
       "\n",
       "    .dataframe thead th {\n",
       "        text-align: right;\n",
       "    }\n",
       "</style>\n",
       "<table border=\"1\" class=\"dataframe\">\n",
       "  <thead>\n",
       "    <tr style=\"text-align: right;\">\n",
       "      <th></th>\n",
       "      <th>instant</th>\n",
       "      <th>dteday</th>\n",
       "      <th>season</th>\n",
       "      <th>yr</th>\n",
       "      <th>mnth</th>\n",
       "      <th>hr</th>\n",
       "      <th>holiday</th>\n",
       "      <th>weekday</th>\n",
       "      <th>workingday</th>\n",
       "      <th>weathersit</th>\n",
       "      <th>temp</th>\n",
       "      <th>atemp</th>\n",
       "      <th>hum</th>\n",
       "      <th>windspeed</th>\n",
       "      <th>casual</th>\n",
       "      <th>registered</th>\n",
       "      <th>cnt</th>\n",
       "    </tr>\n",
       "  </thead>\n",
       "  <tbody>\n",
       "    <tr>\n",
       "      <th>0</th>\n",
       "      <td>1</td>\n",
       "      <td>2011-01-01</td>\n",
       "      <td>1</td>\n",
       "      <td>0</td>\n",
       "      <td>1</td>\n",
       "      <td>0</td>\n",
       "      <td>0</td>\n",
       "      <td>6</td>\n",
       "      <td>0</td>\n",
       "      <td>1</td>\n",
       "      <td>0.24</td>\n",
       "      <td>0.2879</td>\n",
       "      <td>0.81</td>\n",
       "      <td>0.0</td>\n",
       "      <td>3</td>\n",
       "      <td>13</td>\n",
       "      <td>16</td>\n",
       "    </tr>\n",
       "    <tr>\n",
       "      <th>1</th>\n",
       "      <td>2</td>\n",
       "      <td>2011-01-01</td>\n",
       "      <td>1</td>\n",
       "      <td>0</td>\n",
       "      <td>1</td>\n",
       "      <td>1</td>\n",
       "      <td>0</td>\n",
       "      <td>6</td>\n",
       "      <td>0</td>\n",
       "      <td>1</td>\n",
       "      <td>0.22</td>\n",
       "      <td>0.2727</td>\n",
       "      <td>0.80</td>\n",
       "      <td>0.0</td>\n",
       "      <td>8</td>\n",
       "      <td>32</td>\n",
       "      <td>40</td>\n",
       "    </tr>\n",
       "    <tr>\n",
       "      <th>2</th>\n",
       "      <td>3</td>\n",
       "      <td>2011-01-01</td>\n",
       "      <td>1</td>\n",
       "      <td>0</td>\n",
       "      <td>1</td>\n",
       "      <td>2</td>\n",
       "      <td>0</td>\n",
       "      <td>6</td>\n",
       "      <td>0</td>\n",
       "      <td>1</td>\n",
       "      <td>0.22</td>\n",
       "      <td>0.2727</td>\n",
       "      <td>0.80</td>\n",
       "      <td>0.0</td>\n",
       "      <td>5</td>\n",
       "      <td>27</td>\n",
       "      <td>32</td>\n",
       "    </tr>\n",
       "    <tr>\n",
       "      <th>3</th>\n",
       "      <td>4</td>\n",
       "      <td>2011-01-01</td>\n",
       "      <td>1</td>\n",
       "      <td>0</td>\n",
       "      <td>1</td>\n",
       "      <td>3</td>\n",
       "      <td>0</td>\n",
       "      <td>6</td>\n",
       "      <td>0</td>\n",
       "      <td>1</td>\n",
       "      <td>0.24</td>\n",
       "      <td>0.2879</td>\n",
       "      <td>0.75</td>\n",
       "      <td>0.0</td>\n",
       "      <td>3</td>\n",
       "      <td>10</td>\n",
       "      <td>13</td>\n",
       "    </tr>\n",
       "    <tr>\n",
       "      <th>4</th>\n",
       "      <td>5</td>\n",
       "      <td>2011-01-01</td>\n",
       "      <td>1</td>\n",
       "      <td>0</td>\n",
       "      <td>1</td>\n",
       "      <td>4</td>\n",
       "      <td>0</td>\n",
       "      <td>6</td>\n",
       "      <td>0</td>\n",
       "      <td>1</td>\n",
       "      <td>0.24</td>\n",
       "      <td>0.2879</td>\n",
       "      <td>0.75</td>\n",
       "      <td>0.0</td>\n",
       "      <td>0</td>\n",
       "      <td>1</td>\n",
       "      <td>1</td>\n",
       "    </tr>\n",
       "  </tbody>\n",
       "</table>\n",
       "</div>"
      ],
      "text/plain": [
       "   instant      dteday  season  yr  mnth  hr  holiday  weekday  workingday  \\\n",
       "0        1  2011-01-01       1   0     1   0        0        6           0   \n",
       "1        2  2011-01-01       1   0     1   1        0        6           0   \n",
       "2        3  2011-01-01       1   0     1   2        0        6           0   \n",
       "3        4  2011-01-01       1   0     1   3        0        6           0   \n",
       "4        5  2011-01-01       1   0     1   4        0        6           0   \n",
       "\n",
       "   weathersit  temp   atemp   hum  windspeed  casual  registered  cnt  \n",
       "0           1  0.24  0.2879  0.81        0.0       3          13   16  \n",
       "1           1  0.22  0.2727  0.80        0.0       8          32   40  \n",
       "2           1  0.22  0.2727  0.80        0.0       5          27   32  \n",
       "3           1  0.24  0.2879  0.75        0.0       3          10   13  \n",
       "4           1  0.24  0.2879  0.75        0.0       0           1    1  "
      ]
     },
     "execution_count": 8,
     "metadata": {},
     "output_type": "execute_result"
    }
   ],
   "source": [
    "# Reading the data\n",
    "bike_rentals = pd.read_csv(\"bike_rental_hour.csv\")\n",
    "print(bike_rentals.shape)\n",
    "print(bike_rentals.info())\n",
    "bike_rentals.head()"
   ]
  },
  {
   "cell_type": "code",
   "execution_count": 9,
   "metadata": {},
   "outputs": [
    {
     "data": {
      "text/plain": [
       "(17379, 65)"
      ]
     },
     "execution_count": 9,
     "metadata": {},
     "output_type": "execute_result"
    }
   ],
   "source": [
    "#We have to remove the casual and registered columns, since casual+registered = cnt(which is our target variable) \n",
    "#to prevent data leakage.However we can use the percentage of registered and casual instead.\n",
    "br_cleaned = bike_rentals.copy()\n",
    "br_cleaned['registered_perc'] = br_cleaned['registered']/br_cleaned['cnt']*100\n",
    "br_cleaned['casual_perc'] = br_cleaned['casual']/br_cleaned['cnt']*100\n",
    "br_cleaned.head()\n",
    "\n",
    "#Have to convert year,mnth,hr,weekday,weathersit columns to dummy category variable\n",
    "for i in ['season','yr','mnth','hr','holiday','weekday','workingday','weathersit']:\n",
    "    br_cleaned[i] = pd.Categorical(br_cleaned[i])\n",
    "    if br_cleaned[i].nunique()!=2:\n",
    "        dummy = pd.get_dummies(br_cleaned[i], prefix=i)\n",
    "        br_cleaned=br_cleaned.drop(i,axis=1)\n",
    "        br_cleaned = pd.concat([br_cleaned,dummy], axis=1)\n",
    "\n",
    "br_cleaned.shape"
   ]
  },
  {
   "cell_type": "code",
   "execution_count": 10,
   "metadata": {},
   "outputs": [
    {
     "data": {
      "text/plain": [
       "<matplotlib.axes._subplots.AxesSubplot at 0x2bf77f5e668>"
      ]
     },
     "execution_count": 10,
     "metadata": {},
     "output_type": "execute_result"
    },
    {
     "data": {
      "image/png": "[encoded data removed]",
      "text/plain": [
       "<matplotlib.figure.Figure at 0x2bf781b6d68>"
      ]
     },
     "metadata": {},
     "output_type": "display_data"
    }
   ],
   "source": [
    "br_cleaned['cnt'].hist()"
   ]
  },
  {
   "cell_type": "code",
   "execution_count": 11,
   "metadata": {},
   "outputs": [
    {
     "data": {
      "text/plain": [
       "cnt                1.000000\n",
       "registered         0.972151\n",
       "casual             0.694564\n",
       "temp               0.404772\n",
       "atemp              0.400929\n",
       "hr_17              0.313996\n",
       "instant            0.278379\n",
       "hr_18              0.272114\n",
       "hr_8               0.195313\n",
       "season_3           0.151621\n",
       "hr_16              0.141443\n",
       "hr_19              0.140710\n",
       "casual_perc        0.123607\n",
       "weathersit_1       0.117478\n",
       "windspeed          0.093234\n",
       "mnth_9             0.084931\n",
       "mnth_6             0.084600\n",
       "mnth_8             0.081657\n",
       "hr_13              0.074060\n",
       "hr_12              0.073609\n",
       "mnth_7             0.071459\n",
       "hr_15              0.071259\n",
       "season_2           0.060692\n",
       "hr_14              0.059395\n",
       "mnth_5             0.056422\n",
       "mnth_10            0.054406\n",
       "hr_20              0.042154\n",
       "hr_9               0.034382\n",
       "season_4           0.029421\n",
       "hr_7               0.026036\n",
       "                     ...   \n",
       "weekday_4          0.015653\n",
       "weekday_5          0.015034\n",
       "weekday_2          0.003969\n",
       "weekday_3          0.003746\n",
       "weekday_6          0.001692\n",
       "mnth_4            -0.003645\n",
       "weathersit_4      -0.008340\n",
       "weekday_1         -0.012860\n",
       "hr_10             -0.018195\n",
       "hr_21             -0.019769\n",
       "mnth_11           -0.020074\n",
       "weekday_0         -0.027118\n",
       "weathersit_2      -0.046902\n",
       "mnth_3            -0.057131\n",
       "hr_22             -0.067009\n",
       "mnth_12           -0.079415\n",
       "hr_23             -0.117160\n",
       "mnth_2            -0.122113\n",
       "registered_perc   -0.123607\n",
       "weathersit_3      -0.128034\n",
       "hr_6              -0.130467\n",
       "hr_0              -0.156054\n",
       "mnth_1            -0.156834\n",
       "hr_1              -0.179420\n",
       "hr_2              -0.190250\n",
       "hr_5              -0.193936\n",
       "hr_3              -0.200296\n",
       "hr_4              -0.206352\n",
       "season_1          -0.245456\n",
       "hum               -0.322911\n",
       "Name: cnt, Length: 61, dtype: float64"
      ]
     },
     "execution_count": 11,
     "metadata": {},
     "output_type": "execute_result"
    }
   ],
   "source": [
    "corr_cnt = br_cleaned.corr()['cnt']\n",
    "corr_cnt = corr_cnt.sort_values(ascending=False)\n",
    "corr_cnt"
   ]
  },
  {
   "cell_type": "code",
   "execution_count": 12,
   "metadata": {},
   "outputs": [],
   "source": [
    "rand_ind = np.random.permutation(br_cleaned.shape[0])\n",
    "num_val = int(0.8*len(rand_ind))"
   ]
  },
  {
   "cell_type": "code",
   "execution_count": 13,
   "metadata": {},
   "outputs": [],
   "source": [
    "train = br_cleaned.loc[rand_ind[:num_val]]\n",
    "test = br_cleaned.loc[rand_ind[num_val:]]"
   ]
  },
  {
   "cell_type": "code",
   "execution_count": 14,
   "metadata": {},
   "outputs": [
    {
     "data": {
      "text/plain": [
       "Index(['instant', 'dteday', 'yr', 'holiday', 'workingday', 'temp', 'atemp',\n",
       "       'hum', 'windspeed', 'casual', 'registered', 'cnt', 'registered_perc',\n",
       "       'casual_perc', 'season_1', 'season_2', 'season_3', 'season_4', 'mnth_1',\n",
       "       'mnth_2', 'mnth_3', 'mnth_4', 'mnth_5', 'mnth_6', 'mnth_7', 'mnth_8',\n",
       "       'mnth_9', 'mnth_10', 'mnth_11', 'mnth_12', 'hr_0', 'hr_1', 'hr_2',\n",
       "       'hr_3', 'hr_4', 'hr_5', 'hr_6', 'hr_7', 'hr_8', 'hr_9', 'hr_10',\n",
       "       'hr_11', 'hr_12', 'hr_13', 'hr_14', 'hr_15', 'hr_16', 'hr_17', 'hr_18',\n",
       "       'hr_19', 'hr_20', 'hr_21', 'hr_22', 'hr_23', 'weekday_0', 'weekday_1',\n",
       "       'weekday_2', 'weekday_3', 'weekday_4', 'weekday_5', 'weekday_6',\n",
       "       'weathersit_1', 'weathersit_2', 'weathersit_3', 'weathersit_4'],\n",
       "      dtype='object')"
      ]
     },
     "execution_count": 14,
     "metadata": {},
     "output_type": "execute_result"
    }
   ],
   "source": [
    "br_cleaned.columns"
   ]
  },
  {
   "cell_type": "code",
   "execution_count": 16,
   "metadata": {},
   "outputs": [],
   "source": [
    "features=['yr', 'holiday', 'workingday', 'temp', 'atemp',\n",
    "       'hum', 'windspeed', 'registered_perc',\n",
    "       'casual_perc', 'season_1', 'season_2', 'season_3', 'season_4', 'mnth_1',\n",
    "       'mnth_2', 'mnth_3', 'mnth_4', 'mnth_5', 'mnth_6', 'mnth_7', 'mnth_8',\n",
    "       'mnth_9', 'mnth_10', 'mnth_11', 'mnth_12', 'hr_0', 'hr_1', 'hr_2',\n",
    "       'hr_3', 'hr_4', 'hr_5', 'hr_6', 'hr_7', 'hr_8', 'hr_9', 'hr_10',\n",
    "       'hr_11', 'hr_12', 'hr_13', 'hr_14', 'hr_15', 'hr_16', 'hr_17', 'hr_18',\n",
    "       'hr_19', 'hr_20', 'hr_21', 'hr_22', 'hr_23', 'weekday_0', 'weekday_1',\n",
    "       'weekday_2', 'weekday_3', 'weekday_4', 'weekday_5', 'weekday_6',\n",
    "       'weathersit_1', 'weathersit_2', 'weathersit_3', 'weathersit_4']\n",
    "target = 'cnt'"
   ]
  },
  {
   "cell_type": "code",
   "execution_count": 70,
   "metadata": {},
   "outputs": [],
   "source": [
    "#normalizing data\n",
    "to_norm = ['temp','atemp','hum','windspeed', 'registered_perc', 'casual_perc']\n",
    "br_cleaned[to_norm] = (br_cleaned[to_norm] - br_cleaned[to_norm].mean())/br_cleaned[to_norm].std()"
   ]
  },
  {
   "cell_type": "code",
   "execution_count": 66,
   "metadata": {},
   "outputs": [
    {
     "name": "stdout",
     "output_type": "stream",
     "text": [
      "(93.02638687521117, 133.89004483954898)\n",
      "(93.0270347409314, 133.95461252032925)\n",
      "(96.59118666750557, 145.53393903109367)\n",
      "(87.2253375922938, 164.2998825087987)\n"
     ]
    }
   ],
   "source": []
  },
  {
   "cell_type": "code",
   "execution_count": 63,
   "metadata": {},
   "outputs": [
    {
     "name": "stdout",
     "output_type": "stream",
     "text": [
      "Mean Squared Error is: 10571.48338319627\n",
      "Root Mean Squared Error is: 102.8177192082973\n",
      "Mean Absolute Error is: 75.97709741800921\n"
     ]
    },
    {
     "data": {
      "text/plain": [
       "10571.4833831963"
      ]
     },
     "execution_count": 63,
     "metadata": {},
     "output_type": "execute_result"
    }
   ],
   "source": [
    "from sklearn.linear_model import LinearRegression, Ridge, Lasso\n",
    "from sklearn.metrics import mean_absolute_error,mean_squared_error\n",
    "lm = LinearRegression()\n",
    "lm.fit(train[features],train[target])\n",
    "predictions = lm.predict(test[features])\n",
    "mse = mean_squared_error(test[target],predictions)\n",
    "rmse = mse**0.5\n",
    "mae = mean_absolute_error(test[target],predictions)\n",
    "\n",
    "print(\"Mean Squared Error is: {}\".format(mse))\n",
    "print(\"Root Mean Squared Error is: {}\".format(rmse))\n",
    "print(\"Mean Absolute Error is: {}\".format(mae))\n",
    "\n",
    "np.corrcoef(test[target],predictions)\n",
    "\n",
    "error = predictions - test[target].values\n",
    "\n",
    "#sum(error^2)\n",
    "sum(np.square(error)/len(predictions))"
   ]
  },
  {
   "cell_type": "code",
   "execution_count": 64,
   "metadata": {},
   "outputs": [
    {
     "name": "stdout",
     "output_type": "stream",
     "text": [
      "Mean Squared Error is: 13916.189102416569\n",
      "Root Mean Squared Error is: 117.96689833345864\n",
      "Mean Absolute Error is: 82.75805523590334\n"
     ]
    },
    {
     "data": {
      "text/plain": [
       "array([[1.        , 0.75824032],\n",
       "       [0.75824032, 1.        ]])"
      ]
     },
     "execution_count": 64,
     "metadata": {},
     "output_type": "execute_result"
    }
   ],
   "source": [
    "from sklearn.neighbors import KNeighborsRegressor\n",
    "from sklearn.model_selection import cross_val_score, KFold, train_test_split, cross_val_predict\n",
    "\n",
    "kn = KNeighborsRegressor().fit(train[features],train[target])\n",
    "predictions = kn.predict(test[features])\n",
    "mse = mean_squared_error(test[target],predictions)\n",
    "rmse = mse**0.5\n",
    "mae = mean_absolute_error(test[target],predictions)\n",
    "\n",
    "print(\"Mean Squared Error is: {}\".format(mse))\n",
    "print(\"Root Mean Squared Error is: {}\".format(rmse))\n",
    "print(\"Mean Absolute Error is: {}\".format(mae))\n",
    "np.corrcoef(test[target],predictions)"
   ]
  },
  {
   "cell_type": "code",
   "execution_count": 79,
   "metadata": {},
   "outputs": [
    {
     "data": {
      "text/plain": [
       "<matplotlib.legend.Legend at 0x2500ac16ef0>"
      ]
     },
     "execution_count": 79,
     "metadata": {},
     "output_type": "execute_result"
    },
    {
     "data": {
      "image/png": "[encoded data removed]",
      "text/plain": [
       "<matplotlib.figure.Figure at 0x2500a440898>"
      ]
     },
     "metadata": {},
     "output_type": "display_data"
    }
   ],
   "source": [
    "def run_model_folds(model,df,features,target,folds):\n",
    "    kf = KFold(n_splits=folds, shuffle=True, random_state=1)\n",
    "    mses = cross_val_score(model,X = df[features],y = df[target],cv = kf,scoring=\"neg_mean_squared_error\")\n",
    "    avg_mse = np.mean(mses)\n",
    "    rmse = (-1*avg_mse)**0.5\n",
    "    return rmse\n",
    "\n",
    "km_rmse_folds = {}\n",
    "lm_rmse_folds = {}\n",
    "\n",
    "folds = np.arange(2,15,1)\n",
    "for fold in folds:\n",
    "    km_rmse_folds[fold] = run_model_folds(KNeighborsRegressor(),br_cleaned,features,target,fold)\n",
    "    lm_rmse_folds[fold] = run_model_folds(LinearRegression(),br_cleaned,features,target,fold)\n",
    "    \n",
    "plt.plot(folds,km_rmse_folds.values(),label=\"KNeighborsRegressor\")\n",
    "plt.plot(folds,lm_rmse_folds.values(),color='darkgreen',alpha=0.7, label = \"LinearRegression\")\n",
    "plt.xlabel(\"Folds\")\n",
    "plt.ylabel(\"RMSE\")\n",
    "plt.legend()\n"
   ]
  },
  {
   "cell_type": "code",
   "execution_count": 13,
   "metadata": {},
   "outputs": [
    {
     "data": {
      "text/plain": [
       "{'atemp': 65,\n",
       " 'casual': 322,\n",
       " 'cnt': 869,\n",
       " 'dteday': 731,\n",
       " 'holiday': 2,\n",
       " 'hr': 24,\n",
       " 'hum': 89,\n",
       " 'instant': 17379,\n",
       " 'mnth': 12,\n",
       " 'registered': 776,\n",
       " 'season': 4,\n",
       " 'temp': 50,\n",
       " 'time_label': 4,\n",
       " 'weathersit': 4,\n",
       " 'weekday': 7,\n",
       " 'windspeed': 30,\n",
       " 'workingday': 2,\n",
       " 'yr': 2}"
      ]
     },
     "execution_count": 13,
     "metadata": {},
     "output_type": "execute_result"
    }
   ],
   "source": [
    "uniq={}\n",
    "for col in bike_rentals.columns:\n",
    "    uniq[col] = bike_rentals[col].nunique()\n",
    "    \n",
    "uniq"
   ]
  },
  {
   "cell_type": "code",
   "execution_count": 14,
   "metadata": {
    "collapsed": true
   },
   "outputs": [],
   "source": [
    "convert_to_category_cols = ['hr','yr','season','weathersit',\n",
    "                            'weekday', 'mnth']"
   ]
  },
  {
   "cell_type": "code",
   "execution_count": 15,
   "metadata": {},
   "outputs": [],
   "source": [
    "new_features=[]\n",
    "for col in convert_to_category_cols:\n",
    "    dummy = pd.get_dummies(bike_rentals[col],prefix=col)\n",
    "    for dummy_cols in dummy.columns:\n",
    "        new_features.append(dummy_cols)\n",
    "    bike_rentals = pd.concat([bike_rentals,dummy],axis=1)"
   ]
  },
  {
   "cell_type": "code",
   "execution_count": 16,
   "metadata": {},
   "outputs": [
    {
     "data": {
      "text/plain": [
       "['instant',\n",
       " 'season',\n",
       " 'yr',\n",
       " 'mnth',\n",
       " 'holiday',\n",
       " 'weekday',\n",
       " 'workingday',\n",
       " 'weathersit',\n",
       " 'temp',\n",
       " 'atemp',\n",
       " 'hum',\n",
       " 'windspeed',\n",
       " 'time_label']"
      ]
     },
     "execution_count": 16,
     "metadata": {},
     "output_type": "execute_result"
    }
   ],
   "source": [
    "features"
   ]
  },
  {
   "cell_type": "code",
   "execution_count": null,
   "metadata": {},
   "outputs": [],
   "source": []
  },
  {
   "cell_type": "code",
   "execution_count": 82,
   "metadata": {},
   "outputs": [
    {
     "name": "stdout",
     "output_type": "stream",
     "text": [
      "Mean Sqaured Error is: 10399.941491657077\n",
      "Root Mean Sqaured Error is: 101.98010341070005\n",
      "Mean Absolute Error is: 75.1331990794016\n"
     ]
    }
   ],
   "source": [
    "train = br_cleaned.loc[rand_ind[:num_val]]\n",
    "test = br_cleaned.loc[rand_ind[num_val:]]\n",
    "\n",
    "lm = LinearRegression()\n",
    "lm.fit(train[features],train[target])\n",
    "predictions = lm.predict(test[features])\n",
    "mse = mean_squared_error(test[target],predictions)\n",
    "rmse = mse**0.5\n",
    "mae = mean_absolute_error(test[target],predictions)\n",
    "\n",
    "print(\"Mean Sqaured Error is: {}\".format(mse))\n",
    "print(\"Root Mean Sqaured Error is: {}\".format(rmse))\n",
    "print(\"Mean Absolute Error is: {}\".format(mae))"
   ]
  },
  {
   "cell_type": "code",
   "execution_count": 83,
   "metadata": {},
   "outputs": [
    {
     "name": "stdout",
     "output_type": "stream",
     "text": [
      "Mean Sqaured Error is: 6262.429715903673\n",
      "Root Mean Sqaured Error is: 79.13551488367074\n",
      "Mean Absolute Error is: 50.80319232016962\n"
     ]
    }
   ],
   "source": [
    "from sklearn.tree import DecisionTreeRegressor\n",
    "dtree = DecisionTreeRegressor(max_depth=20,min_samples_leaf=10)\n",
    "dtree.fit(train[features],train[target])\n",
    "predictions_tree = dtree.predict(test[features])\n",
    "mse_dt = mean_squared_error(test[target],predictions_tree)\n",
    "rmse_dt = mse_dt**0.5\n",
    "mae_dt = mean_absolute_error(test[target],predictions_tree)\n",
    "\n",
    "print(\"Mean Sqaured Error is: {}\".format(mse_dt))\n",
    "print(\"Root Mean Sqaured Error is: {}\".format(rmse_dt))\n",
    "print(\"Mean Absolute Error is: {}\".format(mae_dt))"
   ]
  },
  {
   "cell_type": "code",
   "execution_count": 78,
   "metadata": {},
   "outputs": [
    {
     "name": "stdout",
     "output_type": "stream",
     "text": [
      "Mean Sqaured Error is: 3151.3084965361018\n",
      "Root Mean Sqaured Error is: 56.136516604934634\n",
      "Mean Absolute Error is: 35.04517840433764\n",
      "Root Mean Sqaured Error is: 28.95705701777936\n"
     ]
    }
   ],
   "source": [
    "from sklearn.ensemble import RandomForestRegressor\n",
    "rf = RandomForestRegressor(min_samples_leaf=2)\n",
    "rf.fit(train[features],train[target])\n",
    "predictions_rf = rf.predict(test[features])\n",
    "mse_rf = mean_squared_error(test[target],predictions_rf)\n",
    "rmse_rf = mse_rf**0.5\n",
    "mae_rf = mean_absolute_error(test[target],predictions_rf)\n",
    "\n",
    "print(\"Mean Sqaured Error is: {}\".format(mse_rf))\n",
    "print(\"Root Mean Sqaured Error is: {}\".format(rmse_rf))\n",
    "print(\"Mean Absolute Error is: {}\".format(mae_rf))\n",
    "\n",
    "train_predictions_rf = rf.predict(train[features])\n",
    "mse_rf = mean_squared_error(train[target],train_predictions_rf)\n",
    "rmse_rf = mse_rf**0.5\n",
    "\n",
    "\n",
    "print(\"Root Mean Sqaured Error is: {}\".format(rmse_rf))\n",
    "\n"
   ]
  },
  {
   "cell_type": "code",
   "execution_count": null,
   "metadata": {},
   "outputs": [],
   "source": [
    "from sklearn.grid_search import GridSearchCV\n",
    "\n",
    "grid = {'min_samples_leaf' : [2,5], \n",
    "        'max_depth': [20,30,40,50,100], \n",
    "        'n_estimators': [10]}\n",
    "gs = GridSearchCV(RandomForestRegressor(), param_grid=grid, cv=5)\n",
    "gs.fit(train[features],train[target])\n",
    "X_train, X_test, y_train, y_test = train_test_split(br_cleaned[features],\n",
    "                                                    br_cleaned[target],\n",
    "                                                    test_size=0.50,\n",
    "                                                    random_state=1)\n",
    "gs.fit(X_train,y_train)\n",
    "predictions_gs = gs.predict(X_test)\n",
    "mse_gs = mean_squared_error(y_test,predictions_gs)\n",
    "mae_gs = mean_absolute_error(y_test,predictions_gs)\n",
    "rmse_gs = mse_gs**0.5\n",
    "print(\"Mean Sqaured Error is: {}\".format(mse_gs))\n",
    "print(\"Root Mean Sqaured Error is: {}\".format(rmse_gs))\n",
    "print(\"Mean Absolute Error is: {}\".format(mae_gs))"
   ]
  },
  {
   "cell_type": "code",
   "execution_count": 94,
   "metadata": {},
   "outputs": [
    {
     "data": {
      "text/plain": [
       "{'max_depth': 20, 'min_samples_leaf': 2, 'n_estimators': 10}"
      ]
     },
     "execution_count": 94,
     "metadata": {},
     "output_type": "execute_result"
    }
   ],
   "source": [
    "gs.best_params_"
   ]
  },
  {
   "cell_type": "code",
   "execution_count": 176,
   "metadata": {},
   "outputs": [],
   "source": [
    "def rmse_sets_models(model,df,features,target,cv_set=False,test_size=0.25, random_state = 1):\n",
    "    #This function outputs rmse values for train,validation (optional) and test sets\n",
    "    #\n",
    "    #Inputs:\n",
    "    #model = the sklearn model you want to use. Eg.: sklearn.linear_model.LinearRegression()\n",
    "    #df = the cleaned dataframe containing the features and target variables. \n",
    "    #features = list of column of names to be used as features in the model.\n",
    "    #target = the column name of the target varible\n",
    "    #test_size = test set size (also cv_set size if cv_set=True)\n",
    "    #cv_set = True/False. \n",
    "    #         If True the entire set is divided into 3 sets. train, cv, test. with cv set size = test size.\n",
    "    \n",
    "    #Printing a message to make sure train size is not less than test size.\n",
    "    if (cv_set==True) & (test_size>0.333):\n",
    "        print(\"Not enough training data. Choose test size lower than 0.33\")\n",
    "    else:\n",
    "        if cv_set==True:\n",
    "            X_train,y_train,X_cv,y_cv,X_test,y_test = train_cv_test_splits(df,features,target,\n",
    "                                                                           test_size = test_size,\n",
    "                                                                           cv_set = True,\n",
    "                                                                           random_state = random_state)\n",
    "            \n",
    "            #fitting the model\n",
    "            model.fit(X_train,y_train)\n",
    "            predicted_train = model.predict(X_train)\n",
    "            predicted_cv = model.predict(X_cv)\n",
    "            predicted_test = model.predict(X_test)\n",
    "            \n",
    "            Error_train = y_train - predicted_train\n",
    "            Error_cv = y_cv - predicted_cv\n",
    "            Error_test = y_test - predicted_test\n",
    "            \n",
    "            rmse_train = np.mean(np.square(Error_train))**0.5\n",
    "            rmse_cv = np.mean(np.square(Error_cv))**0.5\n",
    "            rmse_test = np.mean(np.square(Error_test))**0.5\n",
    "            \n",
    "            r2_train = model.score(X_train,y_train)\n",
    "            r2_cv = model.score(X_cv,y_cv)\n",
    "            r2_test = model.score(X_test,y_test)\n",
    "            \n",
    "            \n",
    "            return [rmse_train,r2_train] , [rmse_cv, r2_cv], [rmse_test, r2_test]\n",
    "        else:\n",
    "            X_train,y_train,X_test,y_test = train_cv_test_splits(df,features,target,\n",
    "                                                                 test_size = test_size,\n",
    "                                                                 cv_set = False,\n",
    "                                                                 random_state = random_state)\n",
    "            model.fit(X_train,y_train)\n",
    "            predicted_train = model.predict(X_train)\n",
    "            predicted_test = model.predict(X_test)\n",
    "            \n",
    "            Error_train = y_train - predicted_train\n",
    "            Error_test = y_test - predicted_test\n",
    "            \n",
    "            rmse_train = np.mean(np.square(Error_train))**0.5\n",
    "            rmse_test = np.mean(np.square(Error_test))**0.5\n",
    "            \n",
    "            r2_train = model.score(X_train,y_train)\n",
    "            r2_test = model.score(X_test,y_test)            \n",
    "            \n",
    "            return [rmse_train,r2_train] , [rmse_test, r2_test]\n",
    "        \n",
    "        \n",
    "def train_cv_test_splits(df, features, target, test_size = 0.25, cv_set = False, random_state=1):\n",
    "    #splits the data into three sets - train, cv and test sets.\n",
    "    #Call: X_train,y_train,X_cv,y_cv,X_test,y_test = train_cv_test_splits(df,features,target,test_size=0.25,random_state=1)\n",
    "    #Inputs required:\n",
    "    #df - dataframe\n",
    "    #features - column names of the features\n",
    "    #target - column name of the target variable\n",
    "    if cv_set == True:\n",
    "        cv_size = test_size\n",
    "    else:\n",
    "        cv_size = 0\n",
    "        \n",
    "    train_size = 1 - cv_size - test_size\n",
    "    \n",
    "    if train_size<test_size:\n",
    "        print(\"Not enough training data. Choose test size lower than 0.33\")\n",
    "    else:\n",
    "        row_count = df.shape[0]\n",
    "\n",
    "        #setting seed\n",
    "        np.random.seed(random_state)\n",
    "\n",
    "        #randomizing the rows in the dataframe\n",
    "        random_rows = np.random.permutation(row_count)\n",
    "        random_df = df.iloc[random_rows,:]\n",
    "        random_df = random_df.reset_index(drop = True)\n",
    "        \n",
    "        #counting the rows required for each set\n",
    "        train_count = int(train_size*row_count)\n",
    "        cv_count = int(cv_size*row_count)\n",
    "        test_count = row_count - train_count - cv_count\n",
    "\n",
    "        #creating sets\n",
    "        req_cols = features+[target]\n",
    "        train_data = random_df[req_cols].iloc[:train_count,:]\n",
    "        test_data = random_df[req_cols].iloc[train_count+cv_count:,:]\n",
    "\n",
    "        train_data.reset_index(drop=True, inplace=True)\n",
    "        test_data.reset_index(drop=True, inplace=True)\n",
    "        \n",
    "        if cv_set == True:\n",
    "            cv_data = random_df[req_cols].iloc[train_count:train_count+cv_count,:]\n",
    "            cv_data.reset_index(drop=True, inplace=True)\n",
    "            return train_data[features].values, train_data[target].values, cv_data[features].values, cv_data[target].values, test_data[features].values, test_data[target].values\n",
    "        else:\n",
    "            return train_data[features].values, train_data[target].values, test_data[features].values, test_data[target].values\n",
    "\n"
   ]
  },
  {
   "cell_type": "code",
   "execution_count": 177,
   "metadata": {},
   "outputs": [
    {
     "name": "stdout",
     "output_type": "stream",
     "text": [
      "([101.36762453378061, 0.6904509025441891], [102.6994927875942, 0.6673588640725182])\n",
      "([101.35941220878283, 0.6905010569169998], [102.62711345568606, 0.667827568608643])\n",
      "([105.0640083211998, 0.66746379603704], [105.78271440796847, 0.6470860939145583])\n",
      "([77.75612337303374, 0.8178621507884192], [96.80693366212614, 0.7044354892190259])\n"
     ]
    }
   ],
   "source": [
    "models = [LinearRegression(),Ridge(),Lasso(),KNeighborsRegressor()]\n",
    "\n",
    "for model in models:\n",
    "    print(rmse_sets_models(model, br_cleaned, features, target,test_size=0.2,cv_set=False,random_state=1))"
   ]
  },
  {
   "cell_type": "code",
   "execution_count": 153,
   "metadata": {},
   "outputs": [
    {
     "name": "stdout",
     "output_type": "stream",
     "text": [
      "(93.02673512317811, 133.884546840291)\n",
      "(93.02673867593803, 133.89024131585467)\n",
      "(93.02706101643317, 133.94723386606162)\n",
      "(93.02795369932491, 134.01065764952307)\n",
      "(93.02935652672019, 134.07418096977423)\n",
      "(93.03124862668712, 134.13779964674598)\n",
      "(93.03361935825754, 134.20150969805775)\n"
     ]
    }
   ],
   "source": [
    "alphas = [0.01,0.1,1,2,3,4,5]\n",
    "rmses = []\n",
    "for a in alphas:\n",
    "    rmse = rmse_sets_models(Ridge(alpha=a), br_cleaned, features, target,test_size=0.2,cv_set=False,random_state=1)\n",
    "    print(rmse)"
   ]
  },
  {
   "cell_type": "code",
   "execution_count": 154,
   "metadata": {},
   "outputs": [],
   "source": [
    "from sklearn.linear_model import RidgeCV\n",
    "\n",
    "rd = rmse_sets_models(RidgeCV(alphas=alphas), br_cleaned, features, target,test_size=0.2,cv_set=False,random_state=1)"
   ]
  },
  {
   "cell_type": "code",
   "execution_count": 155,
   "metadata": {},
   "outputs": [
    {
     "data": {
      "text/plain": [
       "(93.02935652672, 134.0741809695747)"
      ]
     },
     "execution_count": 155,
     "metadata": {},
     "output_type": "execute_result"
    }
   ],
   "source": [
    "rd"
   ]
  },
  {
   "cell_type": "markdown",
   "metadata": {},
   "source": [
    "#### Drawing a learning curve"
   ]
  },
  {
   "cell_type": "code",
   "execution_count": 156,
   "metadata": {},
   "outputs": [
    {
     "data": {
      "text/plain": [
       "17379"
      ]
     },
     "execution_count": 156,
     "metadata": {},
     "output_type": "execute_result"
    }
   ],
   "source": [
    "row_count = br_cleaned.shape[0]\n",
    "row_count"
   ]
  },
  {
   "cell_type": "code",
   "execution_count": 157,
   "metadata": {},
   "outputs": [],
   "source": [
    "# let's start with 20 parts of the total data\n",
    "def sets_divide(df, sets):\n",
    "    row_count = df.shape[0]\n",
    "    set_length = int(row_count/sets)\n",
    "    np.random.seed(1)\n",
    "    rand_rows = np.random.permutation(row_count)\n",
    "    random_df = df.iloc[rand_rows,:]\n",
    "    random_df.reset_index(drop=True, inplace=True)\n",
    "    dfs = {}\n",
    "    \n",
    "    for i in range(sets):\n",
    "        dfs[i] = random_df.iloc[(sets-i-1)*set_length:,:]\n",
    "    \n",
    "    return dfs\n",
    "            "
   ]
  },
  {
   "cell_type": "code",
   "execution_count": 158,
   "metadata": {},
   "outputs": [],
   "source": [
    "br_cleaned_dfs = sets_divide(br_cleaned,20)"
   ]
  },
  {
   "cell_type": "code",
   "execution_count": null,
   "metadata": {},
   "outputs": [],
   "source": []
  },
  {
   "cell_type": "code",
   "execution_count": 163,
   "metadata": {},
   "outputs": [],
   "source": [
    "rmses = []\n",
    "\n",
    "for i in range(len(br_cleaned_dfs)):\n",
    "    rmses.append(rmse_sets_models(Ridge(), br_cleaned_dfs[i], features, target,test_size=0.2,cv_set=True,random_state=1))"
   ]
  },
  {
   "cell_type": "code",
   "execution_count": 164,
   "metadata": {},
   "outputs": [
    {
     "data": {
      "text/plain": [
       "[(103.0819914881417, 104.720887471692, 104.83676371416196),\n",
       " (99.7404391573976, 107.33333632573627, 100.62774391761234),\n",
       " (98.50568521378655, 107.24574254415047, 101.46496106241021),\n",
       " (100.66620633833635, 105.52196605759013, 102.76230984929875),\n",
       " (100.46340456405973, 102.5686888505838, 105.03741868842194),\n",
       " (99.94865450943773, 101.88270637275201, 104.76712283279048),\n",
       " (100.14611100166242, 99.48676630044774, 104.41694305614759),\n",
       " (99.64436839305118, 100.27528691683226, 104.2635585127574),\n",
       " (98.78785554662464, 101.98277952730172, 103.97189209556191),\n",
       " (98.6985874718277, 102.98497539829636, 103.49677051564052),\n",
       " (99.26880953191345, 101.12290329032459, 103.38616574496095),\n",
       " (99.56830016445122, 101.76006138788311, 102.92344319224792),\n",
       " (99.92105768799695, 101.92413121111989, 102.6360686691727),\n",
       " (100.58359726495034, 100.9805353255966, 101.79034778320991),\n",
       " (100.54136011364534, 101.49413810948792, 101.9486335862409),\n",
       " (100.99599731510882, 102.0991110381214, 101.94330330700676),\n",
       " (101.17735640703985, 101.195436227465, 102.17649561069588),\n",
       " (101.55100910646091, 99.51687064264436, 102.43304664592452),\n",
       " (101.7840342938456, 99.01892454854718, 102.61515883294446),\n",
       " (102.12185025103152, 99.27380905589129, 102.61310856874313)]"
      ]
     },
     "execution_count": 164,
     "metadata": {},
     "output_type": "execute_result"
    }
   ],
   "source": [
    "rmses"
   ]
  },
  {
   "cell_type": "code",
   "execution_count": 162,
   "metadata": {},
   "outputs": [
    {
     "data": {
      "text/plain": [
       "(76.14719498024249, 139.26255458158207, 144.13984482530853)"
      ]
     },
     "execution_count": 162,
     "metadata": {},
     "output_type": "execute_result"
    }
   ],
   "source": [
    "rmse_sets_models(LinearRegression(), br_cleaned, features, target,test_size=0.2,cv_set=True,random_state=1)"
   ]
  },
  {
   "cell_type": "code",
   "execution_count": 175,
   "metadata": {},
   "outputs": [
    {
     "data": {
      "text/plain": [
       "0.6905010569169998"
      ]
     },
     "execution_count": 175,
     "metadata": {},
     "output_type": "execute_result"
    }
   ],
   "source": [
    "X_train,y_train,X_test,y_test = train_cv_test_splits(br_cleaned,features,target,\n",
    "                                                     test_size = 0.2,\n",
    "                                                     cv_set = False,\n",
    "                                                     random_state = 1)\n",
    "\n",
    "model = Ridge(alpha = 1).fit(X_train,y_train)\n",
    "predictions = model.predict(X_test)\n",
    "model.score(X_train,y_train)"
   ]
  },
  {
   "cell_type": "code",
   "execution_count": 174,
   "metadata": {},
   "outputs": [
    {
     "data": {
      "text/plain": [
       "array([[1.        , 0.81751331],\n",
       "       [0.81751331, 1.        ]])"
      ]
     },
     "execution_count": 174,
     "metadata": {},
     "output_type": "execute_result"
    }
   ],
   "source": [
    "np.corrcoef(predictions,y_test)"
   ]
  },
  {
   "cell_type": "code",
   "execution_count": null,
   "metadata": {},
   "outputs": [],
   "source": []
  }
 ],
 "metadata": {
  "kernelspec": {
   "display_name": "Python 3",
   "language": "python",
   "name": "python3"
  },
  "language_info": {
   "codemirror_mode": {
    "name": "ipython",
    "version": 3
   },
   "file_extension": ".py",
   "mimetype": "text/x-python",
   "name": "python",
   "nbconvert_exporter": "python",
   "pygments_lexer": "ipython3",
   "version": "3.6.4"
  }
 },
 "nbformat": 4,
 "nbformat_minor": 1
}
